{
  "cells": [
    {
      "cell_type": "markdown",
      "metadata": {
        "id": "view-in-github",
        "colab_type": "text"
      },
      "source": [
        "<a href=\"https://colab.research.google.com/github/hanghae-plus-AI/AI-1-jhyeon-kim/blob/main/2%EC%A3%BC%EC%B0%A8_%EA%B8%B0%EB%B3%B8%EA%B3%BC%EC%A0%9C.ipynb\" target=\"_parent\"><img src=\"https://colab.research.google.com/assets/colab-badge.svg\" alt=\"Open In Colab\"/></a>"
      ]
    },
    {
      "cell_type": "markdown",
      "metadata": {
        "id": "ymxatB5WYxlL"
      },
      "source": [
        "# Transformer 실습\n",
        "\n",
        "이번 실습에서는 감정 분석 task에 RNN 대신 Transformer를 구현하여 적용해 볼 것입니다.\n",
        "Library import나 dataloader 생성은 RNN 실습 때와 똑같기 때문에 설명은 넘어가도록 하겠습니다."
      ]
    },
    {
      "cell_type": "code",
      "execution_count": null,
      "metadata": {
        "colab": {
          "base_uri": "https://localhost:8080/"
        },
        "id": "1X7RM2du1zcr",
        "outputId": "bab25934-efbd-48ea-915e-c6b6468cc1fb"
      },
      "outputs": [
        {
          "name": "stdout",
          "output_type": "stream",
          "text": [
            "\u001b[33mWARNING: Skipping cudf-cu12 as it is not installed.\u001b[0m\u001b[33m\n",
            "\u001b[0m\u001b[33mWARNING: Skipping ibis-framework as it is not installed.\u001b[0m\u001b[33m\n",
            "\u001b[0mFound existing installation: bigframes 1.17.0\n",
            "Uninstalling bigframes-1.17.0:\n",
            "  Would remove:\n",
            "    /usr/local/lib/python3.10/dist-packages/bigframes-1.17.0.dist-info/*\n",
            "    /usr/local/lib/python3.10/dist-packages/bigframes/*\n",
            "    /usr/local/lib/python3.10/dist-packages/bigframes_vendored/*\n",
            "Proceed (Y/n)? Y\n",
            "  Successfully uninstalled bigframes-1.17.0\n",
            "Requirement already satisfied: datasets in /usr/local/lib/python3.10/dist-packages (3.0.0)\n",
            "Requirement already satisfied: filelock in /usr/local/lib/python3.10/dist-packages (from datasets) (3.16.1)\n",
            "Requirement already satisfied: numpy>=1.17 in /usr/local/lib/python3.10/dist-packages (from datasets) (1.26.4)\n",
            "Requirement already satisfied: pyarrow>=15.0.0 in /usr/local/lib/python3.10/dist-packages (from datasets) (17.0.0)\n",
            "Requirement already satisfied: dill<0.3.9,>=0.3.0 in /usr/local/lib/python3.10/dist-packages (from datasets) (0.3.8)\n",
            "Requirement already satisfied: pandas in /usr/local/lib/python3.10/dist-packages (from datasets) (2.1.4)\n",
            "Requirement already satisfied: requests>=2.32.2 in /usr/local/lib/python3.10/dist-packages (from datasets) (2.32.3)\n",
            "Requirement already satisfied: tqdm>=4.66.3 in /usr/local/lib/python3.10/dist-packages (from datasets) (4.66.5)\n",
            "Requirement already satisfied: xxhash in /usr/local/lib/python3.10/dist-packages (from datasets) (3.5.0)\n",
            "Requirement already satisfied: multiprocess in /usr/local/lib/python3.10/dist-packages (from datasets) (0.70.16)\n",
            "Requirement already satisfied: fsspec<=2024.6.1,>=2023.1.0 in /usr/local/lib/python3.10/dist-packages (from fsspec[http]<=2024.6.1,>=2023.1.0->datasets) (2024.6.1)\n",
            "Requirement already satisfied: aiohttp in /usr/local/lib/python3.10/dist-packages (from datasets) (3.10.5)\n",
            "Requirement already satisfied: huggingface-hub>=0.22.0 in /usr/local/lib/python3.10/dist-packages (from datasets) (0.24.7)\n",
            "Requirement already satisfied: packaging in /usr/local/lib/python3.10/dist-packages (from datasets) (24.1)\n",
            "Requirement already satisfied: pyyaml>=5.1 in /usr/local/lib/python3.10/dist-packages (from datasets) (6.0.2)\n",
            "Requirement already satisfied: aiohappyeyeballs>=2.3.0 in /usr/local/lib/python3.10/dist-packages (from aiohttp->datasets) (2.4.0)\n",
            "Requirement already satisfied: aiosignal>=1.1.2 in /usr/local/lib/python3.10/dist-packages (from aiohttp->datasets) (1.3.1)\n",
            "Requirement already satisfied: attrs>=17.3.0 in /usr/local/lib/python3.10/dist-packages (from aiohttp->datasets) (24.2.0)\n",
            "Requirement already satisfied: frozenlist>=1.1.1 in /usr/local/lib/python3.10/dist-packages (from aiohttp->datasets) (1.4.1)\n",
            "Requirement already satisfied: multidict<7.0,>=4.5 in /usr/local/lib/python3.10/dist-packages (from aiohttp->datasets) (6.1.0)\n",
            "Requirement already satisfied: yarl<2.0,>=1.0 in /usr/local/lib/python3.10/dist-packages (from aiohttp->datasets) (1.11.1)\n",
            "Requirement already satisfied: async-timeout<5.0,>=4.0 in /usr/local/lib/python3.10/dist-packages (from aiohttp->datasets) (4.0.3)\n",
            "Requirement already satisfied: typing-extensions>=3.7.4.3 in /usr/local/lib/python3.10/dist-packages (from huggingface-hub>=0.22.0->datasets) (4.12.2)\n",
            "Requirement already satisfied: charset-normalizer<4,>=2 in /usr/local/lib/python3.10/dist-packages (from requests>=2.32.2->datasets) (3.3.2)\n",
            "Requirement already satisfied: idna<4,>=2.5 in /usr/local/lib/python3.10/dist-packages (from requests>=2.32.2->datasets) (3.10)\n",
            "Requirement already satisfied: urllib3<3,>=1.21.1 in /usr/local/lib/python3.10/dist-packages (from requests>=2.32.2->datasets) (2.0.7)\n",
            "Requirement already satisfied: certifi>=2017.4.17 in /usr/local/lib/python3.10/dist-packages (from requests>=2.32.2->datasets) (2024.8.30)\n",
            "Requirement already satisfied: python-dateutil>=2.8.2 in /usr/local/lib/python3.10/dist-packages (from pandas->datasets) (2.8.2)\n",
            "Requirement already satisfied: pytz>=2020.1 in /usr/local/lib/python3.10/dist-packages (from pandas->datasets) (2024.2)\n",
            "Requirement already satisfied: tzdata>=2022.1 in /usr/local/lib/python3.10/dist-packages (from pandas->datasets) (2024.1)\n",
            "Requirement already satisfied: six>=1.5 in /usr/local/lib/python3.10/dist-packages (from python-dateutil>=2.8.2->pandas->datasets) (1.16.0)\n"
          ]
        }
      ],
      "source": [
        "!pip uninstall cudf-cu12 ibis-framework bigframes\n",
        "!pip install datasets"
      ]
    },
    {
      "cell_type": "code",
      "execution_count": null,
      "metadata": {
        "colab": {
          "base_uri": "https://localhost:8080/"
        },
        "id": "5lQPClxOFKMS",
        "outputId": "8efb7ee2-71ee-4452-e082-31972bc0340f"
      },
      "outputs": [
        {
          "name": "stdout",
          "output_type": "stream",
          "text": [
            "Requirement already satisfied: sacremoses in /usr/local/lib/python3.10/dist-packages (0.1.1)\n",
            "Requirement already satisfied: regex in /usr/local/lib/python3.10/dist-packages (from sacremoses) (2024.9.11)\n",
            "Requirement already satisfied: click in /usr/local/lib/python3.10/dist-packages (from sacremoses) (8.1.7)\n",
            "Requirement already satisfied: joblib in /usr/local/lib/python3.10/dist-packages (from sacremoses) (1.4.2)\n",
            "Requirement already satisfied: tqdm in /usr/local/lib/python3.10/dist-packages (from sacremoses) (4.66.5)\n"
          ]
        }
      ],
      "source": [
        "!pip install sacremoses\n",
        "# 아래 코드 실행 시 RuntimeError: Missing dependencies: sacremoses 에러가 나서 추가"
      ]
    },
    {
      "cell_type": "code",
      "execution_count": null,
      "metadata": {
        "colab": {
          "base_uri": "https://localhost:8080/"
        },
        "id": "HOdhoBVA1zcu",
        "outputId": "864498e7-ca23-49b4-f70c-a84046dc4713"
      },
      "outputs": [
        {
          "name": "stderr",
          "output_type": "stream",
          "text": [
            "Using cache found in /root/.cache/torch/hub/huggingface_pytorch-transformers_main\n"
          ]
        }
      ],
      "source": [
        "import torch\n",
        "from datasets import load_dataset\n",
        "from torch.utils.data import DataLoader\n",
        "from transformers import BertTokenizerFast\n",
        "from tokenizers import (\n",
        "    decoders,\n",
        "    models,\n",
        "    normalizers,\n",
        "    pre_tokenizers,\n",
        "    processors,\n",
        "    trainers,\n",
        "    Tokenizer,\n",
        ")\n",
        "\n",
        "\n",
        "ds = load_dataset(\"stanfordnlp/imdb\")\n",
        "tokenizer = torch.hub.load('huggingface/pytorch-transformers', 'tokenizer', 'bert-base-uncased')\n",
        "\n",
        "\n",
        "def collate_fn(batch):\n",
        "  max_len = 400\n",
        "  texts, labels = [], []\n",
        "  for row in batch:\n",
        "    labels.append(row['label'])\n",
        "    texts.append(row['text'])\n",
        "\n",
        "  texts = torch.LongTensor(tokenizer(texts, padding=True, truncation=True, max_length=max_len).input_ids)\n",
        "  labels = torch.LongTensor(labels)\n",
        "\n",
        "  return texts, labels\n",
        "\n",
        "\n",
        "train_loader = DataLoader(\n",
        "    ds['train'], batch_size=64, shuffle=True, collate_fn=collate_fn\n",
        ")\n",
        "test_loader = DataLoader(\n",
        "    ds['test'], batch_size=64, shuffle=False, collate_fn=collate_fn\n",
        ")"
      ]
    },
    {
      "cell_type": "markdown",
      "metadata": {
        "id": "i-FshZcTZBQ2"
      },
      "source": [
        "## Self-attention\n",
        "\n",
        "이번에는 self-attention을 구현해보겠습니다.\n",
        "Self-attention은 shape이 (B, S, D)인 embedding이 들어왔을 때 attention을 적용하여 새로운 representation을 만들어내는 module입니다.\n",
        "여기서 B는 batch size, S는 sequence length, D는 embedding 차원입니다.\n",
        "구현은 다음과 같습니다."
      ]
    },
    {
      "cell_type": "code",
      "execution_count": null,
      "metadata": {
        "id": "MBlMVMZcRAxv"
      },
      "outputs": [],
      "source": [
        "from torch import nn\n",
        "from math import sqrt\n",
        "\n",
        "\n",
        "class SelfAttention(nn.Module):\n",
        "  def __init__(self, input_dim, d_model):\n",
        "    super().__init__()\n",
        "\n",
        "    self.input_dim = input_dim\n",
        "    self.d_model = d_model\n",
        "\n",
        "    self.wq = nn.Linear(input_dim, d_model)\n",
        "    self.wk = nn.Linear(input_dim, d_model)\n",
        "    self.wv = nn.Linear(input_dim, d_model)\n",
        "    self.dense = nn.Linear(d_model, d_model)\n",
        "\n",
        "    self.softmax = nn.Softmax(dim=-1)\n",
        "\n",
        "  def forward(self, x, mask):\n",
        "    q, k, v = self.wq(x), self.wk(x), self.wv(x)\n",
        "    score = torch.matmul(q, k.transpose(-1, -2)) # (B, S, D) * (B, D, S) = (B, S, S)\n",
        "    score = score / sqrt(self.d_model) # 여기까지는 Q 와 K 벡터 사이 내적을 통한 각 토큰끼리의 유관한 정도 (유사도)\n",
        "\n",
        "    if mask is not None:\n",
        "      score = score + (mask * -1e9)\n",
        "\n",
        "    score = self.softmax(score) # mask 에 의해서 아주 작은(아주 절댓값 큰 음수일 확률 높음)가 된 경우에, softmax 를 타면 e의 지수로 score 가 올라가면서 거의 0에 가깝게 됨.\n",
        "    result = torch.matmul(score, v) # 각 토큰에 대한 벡터(v) 에 대해, 다른 토큰과의 유사도를 기반으로 가중합해서 조정함.\n",
        "    result = self.dense(result)\n",
        "\n",
        "    return result"
      ]
    },
    {
      "cell_type": "markdown",
      "metadata": {
        "id": "-S0vMp85ZRNO"
      },
      "source": [
        "대부분은 Transformer 챕터에서 배운 수식들을 그대로 구현한 것에 불과합니다.\n",
        "차이점은 `mask`의 존재여부입니다.\n",
        "이전 챕터에서 우리는 가변적인 text data들에 padding token을 붙여 하나의 matrix로 만든 방법을 배웠습니다.\n",
        "실제 attention 계산에서는 이를 무시해주기 위해 mask를 만들어 제공해주게 됩니다.\n",
        "여기서 mask의 shape은 (B, S, 1)로, 만약 `mask[i, j] = True`이면 그 변수는 padding token에 해당한다는 뜻입니다.\n",
        "이러한 값들을 무시해주는 방법은 shape이 (B, S, S)인 `score`가 있을 때(수업에서 배운 $A$와 동일) `score[i, j]`에 아주 작은 값을 더해주면 됩니다. 아주 작은 값은 예를 들어 `-1000..00 = -1e9` 같은 것이 있습니다.\n",
        "이렇게 작은 값을 더해주고 나면 softmax를 거쳤을 때 0에 가까워지기 때문에 weighted sum 과정에서 padding token에 해당하는 `v` 값들을 무시할 수 있게 됩니다.\n",
        "\n",
        "다음은 self-attention과 feed-forward layer를 구현한 모습입니다."
      ]
    },
    {
      "cell_type": "code",
      "execution_count": null,
      "metadata": {
        "id": "VZHPCn9AS5Gp"
      },
      "outputs": [],
      "source": [
        "class TransformerLayer(nn.Module):\n",
        "  def __init__(self, input_dim, d_model, dff):\n",
        "    super().__init__()\n",
        "\n",
        "    self.input_dim = input_dim\n",
        "    self.d_model = d_model\n",
        "    self.dff = dff\n",
        "\n",
        "    self.sa = SelfAttention(input_dim, d_model)\n",
        "    self.ffn = nn.Sequential(\n",
        "      nn.Linear(d_model, dff),\n",
        "      nn.ReLU(),\n",
        "      nn.Linear(dff, d_model)\n",
        "    )\n",
        "\n",
        "  def forward(self, x, mask):\n",
        "    x = self.sa(x, mask)\n",
        "    x = self.ffn(x)\n",
        "\n",
        "    return x"
      ]
    },
    {
      "cell_type": "markdown",
      "metadata": {
        "id": "O_xC9BQJaU4q"
      },
      "source": [
        "보시다시피 self-attention의 구현이 어렵지, Transformer layer 하나 구현하는 것은 수업 때 다룬 그림과 크게 구분되지 않는다는 점을 알 수 있습니다."
      ]
    },
    {
      "cell_type": "markdown",
      "metadata": {
        "id": "J3VYrqTJagS1"
      },
      "source": [
        "## Positional encoding\n",
        "\n",
        "이번에는 positional encoding을 구현합니다. Positional encoding의 식은 다음과 같습니다:\n",
        "$$\n",
        "\\begin{align*} PE_{pos, 2i} &= \\sin\\left( \\frac{pos}{10000^{2i/D}} \\right), \\\\ PE_{pos, 2i+1} &= \\cos\\left( \\frac{pos}{10000^{2i/D}} \\right).\\end{align*}\n",
        "$$\n",
        "\n",
        "이를 Numpy로 구현하여 PyTorch tensor로 변환한 모습은 다음과 같습니다:"
      ]
    },
    {
      "cell_type": "code",
      "execution_count": null,
      "metadata": {
        "colab": {
          "base_uri": "https://localhost:8080/"
        },
        "id": "Uf_jMQWDUR79",
        "outputId": "c44770fe-bc12-4c8e-8ce6-b4dc5efa788e"
      },
      "outputs": [
        {
          "name": "stdout",
          "output_type": "stream",
          "text": [
            "torch.Size([1, 400, 256])\n"
          ]
        }
      ],
      "source": [
        "import numpy as np\n",
        "\n",
        "\n",
        "def get_angles(pos, i, d_model):\n",
        "    angle_rates = 1 / np.power(10000, (2 * (i // 2)) / np.float32(d_model)) # 차원(d_model)이 커질수록 값이 천천히 변하도록 설정됨\n",
        "    return pos * angle_rates\n",
        "\n",
        "def positional_encoding(position, d_model):\n",
        "    angle_rads = get_angles(np.arange(position)[:, None], np.arange(d_model)[None, :], d_model)\n",
        "    angle_rads[:, 0::2] = np.sin(angle_rads[:, 0::2])\n",
        "    angle_rads[:, 1::2] = np.cos(angle_rads[:, 1::2])\n",
        "    pos_encoding = angle_rads[None, ...]\n",
        "\n",
        "    return torch.FloatTensor(pos_encoding)\n",
        "\n",
        "\n",
        "max_len = 400\n",
        "print(positional_encoding(max_len, 256).shape)"
      ]
    },
    {
      "cell_type": "markdown",
      "metadata": {
        "id": "5unoDcBva3eN"
      },
      "source": [
        "Positional encoding은 `angle_rads`를 구현하는 과정에서 모두 구현이 되었습니다. 여기서 `angle_rads`의 shape은 (S, D)입니다.\n",
        "우리는 일반적으로 batch로 주어지는 shape이 (B, S, D)인 tensor를 다루기 때문에 마지막에 None을 활용하여 shape을 (1, S, D)로 바꿔주게됩니다.\n",
        "\n",
        "위에서 구현한 `TransformerLayer`와 positional encoding을 모두 합친 모습은 다음과 같습니다:"
      ]
    },
    {
      "cell_type": "code",
      "execution_count": null,
      "metadata": {
        "id": "8MaiCGh8TsDH"
      },
      "outputs": [],
      "source": [
        "class TextClassifier(nn.Module):\n",
        "  def __init__(self, vocab_size, d_model, n_layers, dff):\n",
        "    super().__init__()\n",
        "\n",
        "    self.vocab_size = vocab_size\n",
        "    self.d_model = d_model\n",
        "    self.n_layers = n_layers\n",
        "    self.dff = dff\n",
        "\n",
        "    self.embedding = nn.Embedding(vocab_size, d_model)\n",
        "    self.pos_encoding = nn.parameter.Parameter(positional_encoding(max_len, d_model), requires_grad=False)\n",
        "    self.layers = nn.ModuleList([TransformerLayer(d_model, d_model, dff) for _ in range(n_layers)])\n",
        "    self.classification = nn.Linear(d_model, 1) # 한 차원만으로 표현 가능한 이진 분류(긍/부정)이므로\n",
        "\n",
        "  def forward(self, x):\n",
        "    mask = (x == tokenizer.pad_token_id)\n",
        "    mask = mask[:, None, :]\n",
        "    seq_len = x.shape[1]\n",
        "\n",
        "    x = self.embedding(x)\n",
        "    x = x * sqrt(self.d_model) # 임베딩 벡터에 대한 스케일링\n",
        "    x = x + self.pos_encoding[:, :seq_len]\n",
        "\n",
        "    for layer in self.layers:\n",
        "      x = layer(x, mask)\n",
        "\n",
        "    x = x[:, 0]\n",
        "    x = self.classification(x)\n",
        "\n",
        "    return x\n",
        "\n",
        "\n",
        "model = TextClassifier(len(tokenizer), 32, 2, 32) # 어휘크기, d_model 크기, 트랜스포머 레이어 수, FFN 의 차원 수"
      ]
    },
    {
      "cell_type": "markdown",
      "metadata": {
        "id": "XXpjPWHjbUK8"
      },
      "source": [
        "기존과 다른 점들은 다음과 같습니다:\n",
        "1. `nn.ModuleList`를 사용하여 여러 layer의 구현을 쉽게 하였습니다.\n",
        "2. Embedding, positional encoding, transformer layer를 거치고 난 후 마지막 label을 예측하기 위해 사용한 값은 `x[:, 0]`입니다. 기존의 RNN에서는 padding token을 제외한 마지막 token에 해당하는 representation을 사용한 것과 다릅니다. 이렇게 사용할 수 있는 이유는 attention 과정을 보시면 첫 번째 token에 대한 representation은 이후의 모든 token의 영향을 받습니다. 즉, 첫 번째 token 또한 전체 문장을 대변하는 의미를 가지고 있다고 할 수 있습니다. 그래서 일반적으로 Transformer를 text 분류에 사용할 때는 이와 같은 방식으로 구현됩니다."
      ]
    },
    {
      "cell_type": "markdown",
      "metadata": {
        "id": "QDq05OlAb2lB"
      },
      "source": [
        "## 학습\n",
        "\n",
        "학습하는 코드는 기존 실습들과 동일하기 때문에 마지막 결과만 살펴보도록 하겠습니다."
      ]
    },
    {
      "cell_type": "code",
      "execution_count": null,
      "metadata": {
        "id": "YHVVsWBPQmnv"
      },
      "outputs": [],
      "source": [
        "from torch.optim import Adam\n",
        "\n",
        "lr = 0.001\n",
        "model = model.to('cuda')\n",
        "loss_fn = nn.BCEWithLogitsLoss()\n",
        "\n",
        "optimizer = Adam(model.parameters(), lr=lr)"
      ]
    },
    {
      "cell_type": "code",
      "execution_count": null,
      "metadata": {
        "id": "r88BALxO1zc1"
      },
      "outputs": [],
      "source": [
        "import numpy as np\n",
        "import matplotlib.pyplot as plt\n",
        "\n",
        "\n",
        "def accuracy(model, dataloader):\n",
        "  cnt = 0\n",
        "  acc = 0\n",
        "\n",
        "  for data in dataloader:\n",
        "    inputs, labels = data\n",
        "    inputs, labels = inputs.to('cuda'), labels.to('cuda')\n",
        "\n",
        "    preds = model(inputs)\n",
        "    # preds = torch.argmax(preds, dim=-1)\n",
        "    preds = (preds > 0).long()[..., 0] # 예측값을 이진 분류로 변환하기 위해 T/F 로 나누고 -> 정수로 변환 -> 첫 번째 차원만 사용\n",
        "\n",
        "    cnt += labels.shape[0]\n",
        "    acc += (labels == preds).sum().item()\n",
        "\n",
        "  return acc / cnt"
      ]
    },
    {
      "cell_type": "code",
      "execution_count": null,
      "metadata": {
        "colab": {
          "base_uri": "https://localhost:8080/"
        },
        "id": "al_b56TYRILq",
        "outputId": "913b4aae-1d4e-40d3-ccee-2c6c40e61b7e"
      },
      "outputs": [
        {
          "name": "stdout",
          "output_type": "stream",
          "text": [
            "Epoch   0 | Train Loss: 243.91250544786453\n",
            "=========> Train acc: 0.758 | Test acc: 0.729\n",
            "Epoch   1 | Train Loss: 183.891298443079\n",
            "=========> Train acc: 0.817 | Test acc: 0.776\n",
            "Epoch   2 | Train Loss: 156.50142034888268\n",
            "=========> Train acc: 0.859 | Test acc: 0.794\n",
            "Epoch   3 | Train Loss: 135.94767673313618\n",
            "=========> Train acc: 0.886 | Test acc: 0.798\n",
            "Epoch   4 | Train Loss: 117.19008338451385\n",
            "=========> Train acc: 0.906 | Test acc: 0.804\n",
            "Epoch   5 | Train Loss: 99.23080694675446\n",
            "=========> Train acc: 0.926 | Test acc: 0.799\n",
            "Epoch   6 | Train Loss: 83.5410331338644\n",
            "=========> Train acc: 0.940 | Test acc: 0.799\n",
            "Epoch   7 | Train Loss: 70.3536023311317\n",
            "=========> Train acc: 0.955 | Test acc: 0.800\n",
            "Epoch   8 | Train Loss: 58.2088071629405\n",
            "=========> Train acc: 0.969 | Test acc: 0.799\n",
            "Epoch   9 | Train Loss: 46.71316915564239\n",
            "=========> Train acc: 0.972 | Test acc: 0.798\n",
            "Epoch  10 | Train Loss: 38.67973143234849\n",
            "=========> Train acc: 0.981 | Test acc: 0.797\n",
            "Epoch  11 | Train Loss: 31.474553079344332\n",
            "=========> Train acc: 0.979 | Test acc: 0.789\n",
            "Epoch  12 | Train Loss: 27.12923057610169\n",
            "=========> Train acc: 0.988 | Test acc: 0.791\n",
            "Epoch  13 | Train Loss: 20.720888363197446\n",
            "=========> Train acc: 0.993 | Test acc: 0.791\n",
            "Epoch  14 | Train Loss: 19.30503902619239\n",
            "=========> Train acc: 0.990 | Test acc: 0.790\n",
            "Epoch  15 | Train Loss: 16.855078653083183\n",
            "=========> Train acc: 0.988 | Test acc: 0.784\n",
            "Epoch  16 | Train Loss: 12.609828666318208\n",
            "=========> Train acc: 0.994 | Test acc: 0.787\n",
            "Epoch  17 | Train Loss: 11.655490907200146\n",
            "=========> Train acc: 0.992 | Test acc: 0.786\n",
            "Epoch  18 | Train Loss: 12.476131652481854\n",
            "=========> Train acc: 0.995 | Test acc: 0.790\n",
            "Epoch  19 | Train Loss: 10.94495218625525\n",
            "=========> Train acc: 0.995 | Test acc: 0.788\n",
            "Epoch  20 | Train Loss: 10.656216235656757\n",
            "=========> Train acc: 0.994 | Test acc: 0.786\n",
            "Epoch  21 | Train Loss: 10.030752397316974\n",
            "=========> Train acc: 0.992 | Test acc: 0.780\n",
            "Epoch  22 | Train Loss: 6.503898261158611\n",
            "=========> Train acc: 0.994 | Test acc: 0.784\n",
            "Epoch  23 | Train Loss: 8.170727510791039\n",
            "=========> Train acc: 0.990 | Test acc: 0.776\n",
            "Epoch  24 | Train Loss: 8.401128398076253\n",
            "=========> Train acc: 0.996 | Test acc: 0.790\n",
            "Epoch  25 | Train Loss: 7.3692320738337\n",
            "=========> Train acc: 0.993 | Test acc: 0.784\n",
            "Epoch  26 | Train Loss: 6.743134224976529\n",
            "=========> Train acc: 0.996 | Test acc: 0.788\n",
            "Epoch  27 | Train Loss: 6.268044964672299\n",
            "=========> Train acc: 0.995 | Test acc: 0.786\n",
            "Epoch  28 | Train Loss: 7.978038965273299\n",
            "=========> Train acc: 0.997 | Test acc: 0.784\n",
            "Epoch  29 | Train Loss: 6.662464749373612\n",
            "=========> Train acc: 0.998 | Test acc: 0.788\n",
            "Epoch  30 | Train Loss: 5.63793085051293\n",
            "=========> Train acc: 0.997 | Test acc: 0.789\n",
            "Epoch  31 | Train Loss: 5.817770853442198\n",
            "=========> Train acc: 0.995 | Test acc: 0.787\n",
            "Epoch  32 | Train Loss: 5.262911912715936\n",
            "=========> Train acc: 0.998 | Test acc: 0.788\n",
            "Epoch  33 | Train Loss: 5.71507381146148\n",
            "=========> Train acc: 0.997 | Test acc: 0.789\n",
            "Epoch  34 | Train Loss: 5.503047729842365\n",
            "=========> Train acc: 0.998 | Test acc: 0.785\n",
            "Epoch  35 | Train Loss: 4.629689160352427\n",
            "=========> Train acc: 0.998 | Test acc: 0.786\n",
            "Epoch  36 | Train Loss: 6.149972711777082\n",
            "=========> Train acc: 0.988 | Test acc: 0.777\n",
            "Epoch  37 | Train Loss: 7.253425424423767\n",
            "=========> Train acc: 0.998 | Test acc: 0.788\n",
            "Epoch  38 | Train Loss: 4.0021841266643605\n",
            "=========> Train acc: 0.996 | Test acc: 0.780\n",
            "Epoch  39 | Train Loss: 4.429371659018216\n",
            "=========> Train acc: 0.997 | Test acc: 0.789\n",
            "Epoch  40 | Train Loss: 4.67302279451178\n",
            "=========> Train acc: 0.990 | Test acc: 0.778\n",
            "Epoch  41 | Train Loss: 5.1651769024629175\n",
            "=========> Train acc: 0.999 | Test acc: 0.789\n",
            "Epoch  42 | Train Loss: 3.5930452417637753\n",
            "=========> Train acc: 0.999 | Test acc: 0.789\n",
            "Epoch  43 | Train Loss: 4.052950162571506\n",
            "=========> Train acc: 0.996 | Test acc: 0.782\n",
            "Epoch  44 | Train Loss: 4.74682395335185\n",
            "=========> Train acc: 0.998 | Test acc: 0.792\n",
            "Epoch  45 | Train Loss: 4.019198614554625\n",
            "=========> Train acc: 0.997 | Test acc: 0.789\n",
            "Epoch  46 | Train Loss: 3.965424056586471\n",
            "=========> Train acc: 0.996 | Test acc: 0.789\n",
            "Epoch  47 | Train Loss: 3.8162446152291523\n",
            "=========> Train acc: 0.998 | Test acc: 0.783\n",
            "Epoch  48 | Train Loss: 4.021525066998947\n",
            "=========> Train acc: 0.998 | Test acc: 0.788\n",
            "Epoch  49 | Train Loss: 3.90414543465522\n",
            "=========> Train acc: 0.998 | Test acc: 0.784\n"
          ]
        }
      ],
      "source": [
        "n_epochs = 50\n",
        "\n",
        "for epoch in range(n_epochs):\n",
        "  total_loss = 0.\n",
        "  model.train()\n",
        "  for data in train_loader:\n",
        "    model.zero_grad()\n",
        "    inputs, labels = data\n",
        "    inputs, labels = inputs.to('cuda'), labels.to('cuda').float()\n",
        "\n",
        "    preds = model(inputs)[..., 0]\n",
        "    loss = loss_fn(preds, labels)\n",
        "    loss.backward()\n",
        "    optimizer.step()\n",
        "\n",
        "    total_loss += loss.item()\n",
        "\n",
        "  print(f\"Epoch {epoch:3d} | Train Loss: {total_loss}\")\n",
        "\n",
        "  with torch.no_grad():\n",
        "    model.eval()\n",
        "    train_acc = accuracy(model, train_loader)\n",
        "    test_acc = accuracy(model, test_loader)\n",
        "    print(f\"=========> Train acc: {train_acc:.3f} | Test acc: {test_acc:.3f}\")"
      ]
    },
    {
      "cell_type": "markdown",
      "metadata": {
        "id": "WqZays2yb8Ja"
      },
      "source": [
        "학습이 안정적으로 진행되며 RNN보다 빨리 수렴하는 것을 확인할 수 있습니다.\n",
        "하지만 test 정확도가 RNN보다 낮은 것을 보았을 때, overfitting에 취약하다는 것을 알 수 있습니다."
      ]
    },
    {
      "cell_type": "markdown",
      "metadata": {
        "id": "2Fq-aOaR3Zgr"
      },
      "source": [
        "- [ ]  Multi-head attention(MHA) 구현\n",
        "    - Self-attention module을 MHA로 확장해주시면 됩니다. 여기서 MHA는 다음과 같이 구현합니다.\n",
        "        1. 기존의 $W_q, W_k, W_v$를 사용하여 $Q, K, V$를 생성합니다. 이 부분은 코드 수정이 필요 없습니다.\n",
        "            1. $Q, K, V \\in \\mathbb{R}^{S \\times D}$가 있을 때, 이를 $Q, K, V \\in \\mathbb{R}^{S \\times H \\times D’}$으로 reshape 해줍니다. 여기서 $H$는 `n_heads`라는 인자로 받아야 하고, $D$가 $H$로 나눠 떨어지는 값이여야 하는 제약 조건이 필요합니다. $D = H \\times D’$입니다.\n",
        "            2. $Q, K, V$를 $Q, K, V \\in \\mathbb{R}^{H \\times S \\times D’}$의 shape으로 transpose해줍니다.\n",
        "        2. $A = QK^T/\\sqrt{D'} \\in \\mathbb{R}^{H \\times S \\times S}$를 기존의 self-attention과 똑같이 계산합니다. 이 부분은 코드 수정이 필요 없습니다.\n",
        "        3. Mask를 더합니다. 기존과 $A$의 shape이 달라졌기 때문에 dimension을 어떻게 맞춰줘야할지 생각해줘야 합니다.\n",
        "        4. $\\hat{x} = \\textrm{Softmax}(A)V \\in \\mathbb{R}^{H \\times S \\times D'}$를 계산해주고 transpose와 reshape을 통해 $\\hat{x} \\in \\mathbb{R}^{S \\times D}$의 shape으로 다시 만들어줍니다.\n",
        "        5. 기존과 똑같이 $\\hat{x} = \\hat{x} W_o$를 곱해줘서 마무리 해줍니다. 이 또한 코드 수정이 필요 없습니다."
      ]
    },
    {
      "cell_type": "code",
      "execution_count": null,
      "metadata": {
        "id": "NAXB6GgIQy1S"
      },
      "outputs": [],
      "source": [
        "import torch\n",
        "from torch import nn\n",
        "from math import sqrt\n",
        "\n",
        "class MultiHeadAttention(nn.Module):\n",
        "    def __init__(self, input_dim, d_model, n_heads):\n",
        "        super().__init__()\n",
        "\n",
        "        assert d_model % n_heads == 0, f\"차원 수는 n_heads 로 나누어 떨어져야 합니다!\"\n",
        "\n",
        "        self.input_dim = input_dim\n",
        "        self.d_model = d_model\n",
        "        self.n_heads = n_heads\n",
        "        self.depth = d_model // n_heads  # D' = D / H (하나의 헤드가 처리하게 되는 차원의 크기)\n",
        "\n",
        "        # Q, K, V의 생성은 기존 Self-Attention과 동일\n",
        "        self.wq = nn.Linear(input_dim, d_model)\n",
        "        self.wk = nn.Linear(input_dim, d_model)\n",
        "        self.wv = nn.Linear(input_dim, d_model)\n",
        "        self.dense = nn.Linear(d_model, d_model)\n",
        "\n",
        "        self.softmax = nn.Softmax(dim=-1)\n",
        "\n",
        "    def split_heads(self, x, batch_size):\n",
        "        \"\"\"\n",
        "        벡터를 여러 헤드로 나누고 차원 맞춤\n",
        "        x: (batch_size, seq_len, d_model) -> (batch_size, n_heads, seq_len, depth)\n",
        "        \"\"\"\n",
        "        x = x.view(batch_size, -1, self.n_heads, self.depth)\n",
        "        return x.transpose(1, 2)  # (batch_size, n_heads, seq_len, depth)\n",
        "\n",
        "    def forward(self, x, mask):\n",
        "        batch_size = x.shape[0]\n",
        "\n",
        "        # Q, K, V 계산\n",
        "        q = self.wq(x)  # (batch_size, seq_len, d_model)\n",
        "        k = self.wk(x)  # (batch_size, seq_len, d_model)\n",
        "        v = self.wv(x)  # (batch_size, seq_len, d_model)\n",
        "\n",
        "        # 헤드로 나누기 (split heads)\n",
        "        q = self.split_heads(q, batch_size)  # (batch_size, n_heads, seq_len, depth)\n",
        "        k = self.split_heads(k, batch_size)  # (batch_size, n_heads, seq_len, depth)\n",
        "        v = self.split_heads(v, batch_size)  # (batch_size, n_heads, seq_len, depth)\n",
        "\n",
        "        # QK^T 계산 (어텐션 스코어)\n",
        "        score = torch.matmul(q, k.transpose(-1, -2))  # K 에 대해 마지막 두 차원(depth와 seq_len)을 바꾸는 역할을 해서 QK^T의 내적을 가능하게 하기\n",
        "        score = score / sqrt(self.depth)  # D'로 나눔\n",
        "\n",
        "\n",
        "        # 마스크 적용 (mask의 차원 맞추기)\n",
        "        if mask is not None:\n",
        "            mask = mask.unsqueeze(1)  # (batch_size, 1, 1, seq_len) 이래도 되는 이유는 pytorch 의 broadcasting\n",
        "            score = score + (mask * -1e9)\n",
        "\n",
        "        # 소프트맥스\n",
        "        score = self.softmax(score)  # (batch_size, n_heads, seq_len, seq_len)\n",
        "\n",
        "        # 가중합 (softmax(score) * V)\n",
        "        result = torch.matmul(score, v)  # (batch_size, n_heads, seq_len, depth)\n",
        "\n",
        "        # 헤드를 다시 합치기 (reshape to (batch_size, seq_len, d_model))\n",
        "        result = result.transpose(1, 2).contiguous()  # (batch_size, seq_len, n_heads, depth)\n",
        "        result = result.view(batch_size, -1, self.d_model)  # (batch_size, seq_len, d_model)\n",
        "\n",
        "        # 최종 선형 변환 (W_o 곱하기)\n",
        "        result = self.dense(result)\n",
        "\n",
        "        return result\n"
      ]
    },
    {
      "cell_type": "markdown",
      "metadata": {
        "id": "yOZJQouP3WAS"
      },
      "source": [
        "- [ ]  Layer normalization, dropout, residual connection 구현\n",
        "    - 다시 `TransformerLayer` class로 돌아와서 과제를 진행하시면 됩니다.\n",
        "    - Attention module을 $MHA$, feed-forward layer를 $FFN$이라고 하겠습니다.\n",
        "    - 기존의 구현은 다음과 같습니다:\n",
        "        \n",
        "        ```python\n",
        "        # x, mask is given\n",
        "        \n",
        "        x1 = MHA(x, mask)\n",
        "        x2 = FFN(x1)\n",
        "        \n",
        "        return x2\n",
        "        ```\n",
        "        \n",
        "    - 다음과 같이 수정해주시면 됩니다.\n",
        "        \n",
        "        ```python\n",
        "        # x, mask is given\n",
        "        \n",
        "        x1 = MHA(x, mask)\n",
        "        x1 = Dropout(x1)\n",
        "        x1 = LayerNormalization(x1 + x)\n",
        "        \n",
        "        x2 = FFN(x)\n",
        "        x2 = Dropout(x2)\n",
        "        x2 = LayerNormalization(x2 + x1)\n",
        "        \n",
        "        return x2\n",
        "        ```\n",
        "        \n",
        "    - 여기서 `x1 + x`와 `x2 + x1`에 해당하는 부분들은 residual connection이라고 부릅니다."
      ]
    },
    {
      "cell_type": "code",
      "execution_count": null,
      "metadata": {
        "id": "D44Jd8U33VfB"
      },
      "outputs": [],
      "source": [
        "import torch\n",
        "from torch import nn\n",
        "\n",
        "\n",
        "class TransformerLayerWithMHA(nn.Module):\n",
        "    def __init__(self, input_dim, d_model, dff, n_heads, dropout_rate=0.1):\n",
        "        super().__init__()\n",
        "\n",
        "        self.input_dim = input_dim\n",
        "        self.d_model = d_model\n",
        "        self.dff = dff\n",
        "        self.n_heads = n_heads\n",
        "\n",
        "        # Multi-Head Attention (MHA) 설정\n",
        "        self.mha = MultiHeadAttention(input_dim, d_model, n_heads)\n",
        "\n",
        "        # Feed-forward 네트워크 설정 (FFN)\n",
        "        self.ffn = nn.Sequential(\n",
        "            nn.Linear(d_model, dff),\n",
        "            nn.ReLU(),\n",
        "            nn.Linear(dff, d_model)\n",
        "        )\n",
        "\n",
        "        # Dropout 및 Layer Normalization 설정\n",
        "        self.dropout1 = nn.Dropout(dropout_rate)\n",
        "        self.dropout2 = nn.Dropout(dropout_rate)\n",
        "        self.layernorm1 = nn.LayerNorm(d_model)\n",
        "        self.layernorm2 = nn.LayerNorm(d_model)\n",
        "\n",
        "    def forward(self, x, mask):\n",
        "        # Multi-Head Attention (MHA)\n",
        "        x1 = self.mha(x, mask)  # MHA\n",
        "        x1 = self.dropout1(x1)  # Dropout after MHA\n",
        "        x1 = self.layernorm1(x1 + x)  # Residual connection and Layer Norm (x1 + x)\n",
        "\n",
        "        # Feed-Forward Network (FFN)\n",
        "        x2 = self.ffn(x1)  # FFN\n",
        "        x2 = self.dropout2(x2)  # Dropout after FFN\n",
        "        x2 = self.layernorm2(x2 + x1)  # Residual connection and Layer Norm (x2 + x1)\n",
        "\n",
        "        return x2\n"
      ]
    },
    {
      "cell_type": "markdown",
      "metadata": {
        "id": "uAvFa0Cw5a6k"
      },
      "source": [
        "\n",
        "- [ ]  5-layer 4-head Transformer\n",
        "- 기존 실습에서 사용한 hyper-parameter들과 위에서 구현한 Transformer를 가지고 5-layer 4-head Transformer의 성능 결과를 report해주시면 됩니다."
      ]
    },
    {
      "cell_type": "code",
      "execution_count": null,
      "metadata": {
        "id": "0QMdfuNc5cWc"
      },
      "outputs": [],
      "source": [
        "\n",
        "# 5-layer, 4-head Transformer 설정\n",
        "class NewTextClassifier(nn.Module):\n",
        "  def __init__(self, vocab_size, d_model, n_layers, dff, n_heads, dropout_rate=0.1):\n",
        "    super().__init__()\n",
        "\n",
        "    self.vocab_size = vocab_size\n",
        "    self.d_model = d_model\n",
        "    self.n_layers = n_layers\n",
        "    self.dff = dff\n",
        "\n",
        "    self.embedding = nn.Embedding(vocab_size, d_model)\n",
        "    self.pos_encoding = nn.parameter.Parameter(positional_encoding(max_len, d_model), requires_grad=False)\n",
        "    self.layers = nn.ModuleList([TransformerLayerWithMHA(d_model, d_model, dff, n_heads) for _ in range(n_layers)])\n",
        "    self.classification = nn.Linear(d_model, 1) # 한 차원만으로 표현 가능한 이진 분류(긍/부정)이므로\n",
        "\n",
        "  def forward(self, x):\n",
        "    mask = (x == tokenizer.pad_token_id)\n",
        "    mask = mask[:, None, :]\n",
        "    seq_len = x.shape[1]\n",
        "\n",
        "    x = self.embedding(x)\n",
        "    x = x * sqrt(self.d_model) # 임베딩 벡터에 대한 스케일링\n",
        "    x = x + self.pos_encoding[:, :seq_len]\n",
        "\n",
        "    for layer in self.layers:\n",
        "      x = layer(x, mask)\n",
        "\n",
        "    x = x[:, 0]\n",
        "    x = self.classification(x)\n",
        "\n",
        "    return x\n",
        "\n",
        "\n",
        "model = NewTextClassifier(len(tokenizer), 32, 5, 32, 4) # 어휘크기, d_model 크기, 트랜스포머 레이어 수, FFN 의 차원 수, 헤드 수\n",
        "model = model.to('cuda')"
      ]
    },
    {
      "cell_type": "code",
      "execution_count": null,
      "metadata": {
        "colab": {
          "background_save": true,
          "base_uri": "https://localhost:8080/"
        },
        "id": "aBjQz0DyFOyA",
        "outputId": "3a6cb235-2cc5-4422-e1e3-184775bc181e"
      },
      "outputs": [
        {
          "name": "stdout",
          "output_type": "stream",
          "text": [
            "Epoch   0 | Train Loss: 208.62984392046928\n",
            "=========> Train acc: 0.840 | Test acc: 0.808\n",
            "Epoch   1 | Train Loss: 142.4190963357687\n",
            "=========> Train acc: 0.889 | Test acc: 0.833\n",
            "Epoch   2 | Train Loss: 113.57906284928322\n",
            "=========> Train acc: 0.908 | Test acc: 0.837\n",
            "Epoch   3 | Train Loss: 91.68669121712446\n",
            "=========> Train acc: 0.934 | Test acc: 0.840\n",
            "Epoch   4 | Train Loss: 69.32372722774744\n",
            "=========> Train acc: 0.967 | Test acc: 0.841\n",
            "Epoch   5 | Train Loss: 53.95451010391116\n",
            "=========> Train acc: 0.976 | Test acc: 0.830\n",
            "Epoch   6 | Train Loss: 41.9391045384109\n",
            "=========> Train acc: 0.981 | Test acc: 0.827\n",
            "Epoch   7 | Train Loss: 31.772228905931115\n",
            "=========> Train acc: 0.985 | Test acc: 0.831\n",
            "Epoch   8 | Train Loss: 26.44011988816783\n",
            "=========> Train acc: 0.987 | Test acc: 0.828\n",
            "Epoch   9 | Train Loss: 21.429973408114165\n",
            "=========> Train acc: 0.987 | Test acc: 0.831\n",
            "Epoch  10 | Train Loss: 19.350330321583897\n",
            "=========> Train acc: 0.993 | Test acc: 0.830\n",
            "Epoch  11 | Train Loss: 16.28113678796217\n",
            "=========> Train acc: 0.993 | Test acc: 0.825\n",
            "Epoch  12 | Train Loss: 16.777810289291665\n",
            "=========> Train acc: 0.994 | Test acc: 0.833\n",
            "Epoch  13 | Train Loss: 13.188296821783297\n",
            "=========> Train acc: 0.991 | Test acc: 0.822\n",
            "Epoch  14 | Train Loss: 13.060170585522428\n",
            "=========> Train acc: 0.995 | Test acc: 0.831\n",
            "Epoch  15 | Train Loss: 12.723553501302376\n",
            "=========> Train acc: 0.994 | Test acc: 0.832\n",
            "Epoch  16 | Train Loss: 12.760466122068465\n",
            "=========> Train acc: 0.996 | Test acc: 0.832\n",
            "Epoch  17 | Train Loss: 12.22608110960573\n",
            "=========> Train acc: 0.995 | Test acc: 0.827\n",
            "Epoch  18 | Train Loss: 10.076669503818266\n",
            "=========> Train acc: 0.997 | Test acc: 0.830\n",
            "Epoch  19 | Train Loss: 10.03505183069501\n",
            "=========> Train acc: 0.996 | Test acc: 0.831\n",
            "Epoch  20 | Train Loss: 10.442006151890382\n",
            "=========> Train acc: 0.994 | Test acc: 0.822\n",
            "Epoch  21 | Train Loss: 10.37059529684484\n",
            "=========> Train acc: 0.995 | Test acc: 0.829\n",
            "Epoch  22 | Train Loss: 10.323722039232962\n",
            "=========> Train acc: 0.997 | Test acc: 0.830\n",
            "Epoch  23 | Train Loss: 7.7655688737286255\n",
            "=========> Train acc: 0.998 | Test acc: 0.830\n",
            "Epoch  24 | Train Loss: 9.496607396635227\n",
            "=========> Train acc: 0.997 | Test acc: 0.832\n",
            "Epoch  25 | Train Loss: 7.418524121050723\n",
            "=========> Train acc: 0.991 | Test acc: 0.822\n",
            "Epoch  26 | Train Loss: 9.04718840320129\n",
            "=========> Train acc: 0.995 | Test acc: 0.824\n",
            "Epoch  27 | Train Loss: 8.548018794390373\n",
            "=========> Train acc: 0.997 | Test acc: 0.832\n",
            "Epoch  28 | Train Loss: 9.92036011745222\n",
            "=========> Train acc: 0.996 | Test acc: 0.833\n",
            "Epoch  29 | Train Loss: 10.339474248117767\n",
            "=========> Train acc: 0.996 | Test acc: 0.829\n",
            "Epoch  30 | Train Loss: 8.993364774505608\n",
            "=========> Train acc: 0.998 | Test acc: 0.833\n",
            "Epoch  31 | Train Loss: 7.860509269405156\n",
            "=========> Train acc: 0.996 | Test acc: 0.827\n",
            "Epoch  32 | Train Loss: 7.558570555294864\n",
            "=========> Train acc: 0.996 | Test acc: 0.829\n",
            "Epoch  33 | Train Loss: 8.191753665101714\n",
            "=========> Train acc: 0.997 | Test acc: 0.831\n",
            "Epoch  34 | Train Loss: 9.772780605009757\n",
            "=========> Train acc: 0.997 | Test acc: 0.832\n",
            "Epoch  35 | Train Loss: 7.246341003570706\n",
            "=========> Train acc: 0.997 | Test acc: 0.827\n",
            "Epoch  36 | Train Loss: 6.889946604438592\n",
            "=========> Train acc: 0.996 | Test acc: 0.827\n",
            "Epoch  37 | Train Loss: 7.955929006449878\n",
            "=========> Train acc: 0.997 | Test acc: 0.828\n",
            "Epoch  38 | Train Loss: 7.310140508459881\n",
            "=========> Train acc: 0.997 | Test acc: 0.829\n",
            "Epoch  39 | Train Loss: 7.182003892958164\n",
            "=========> Train acc: 0.998 | Test acc: 0.828\n",
            "Epoch  40 | Train Loss: 6.673460783844348\n",
            "=========> Train acc: 0.997 | Test acc: 0.829\n",
            "Epoch  41 | Train Loss: 6.8739228114136495\n",
            "=========> Train acc: 0.997 | Test acc: 0.831\n",
            "Epoch  42 | Train Loss: 6.758116263255943\n",
            "=========> Train acc: 0.998 | Test acc: 0.830\n",
            "Epoch  43 | Train Loss: 7.838699298445135\n",
            "=========> Train acc: 0.997 | Test acc: 0.832\n",
            "Epoch  44 | Train Loss: 6.564283467712812\n",
            "=========> Train acc: 0.997 | Test acc: 0.827\n",
            "Epoch  45 | Train Loss: 6.230835717578884\n",
            "=========> Train acc: 0.998 | Test acc: 0.829\n",
            "Epoch  46 | Train Loss: 5.242903414793545\n",
            "=========> Train acc: 0.997 | Test acc: 0.830\n",
            "Epoch  47 | Train Loss: 6.4681267183914315\n",
            "=========> Train acc: 0.997 | Test acc: 0.832\n",
            "Epoch  48 | Train Loss: 6.082096415251726\n",
            "=========> Train acc: 0.998 | Test acc: 0.833\n",
            "Epoch  49 | Train Loss: 5.706203708410612\n",
            "=========> Train acc: 0.997 | Test acc: 0.831\n"
          ]
        }
      ],
      "source": [
        "from torch.optim import Adam\n",
        "\n",
        "lr = 0.001\n",
        "model = model.to('cuda')\n",
        "loss_fn = nn.BCEWithLogitsLoss()\n",
        "n_epochs = 50\n",
        "\n",
        "optimizer = Adam(model.parameters(), lr=lr)\n",
        "for epoch in range(n_epochs):\n",
        "  total_loss = 0.\n",
        "  model.train()\n",
        "  for data in train_loader:\n",
        "    model.zero_grad()\n",
        "    inputs, labels = data\n",
        "    inputs, labels = inputs.to('cuda'), labels.to('cuda').float()\n",
        "\n",
        "    preds = model(inputs)[..., 0]\n",
        "    loss = loss_fn(preds, labels)\n",
        "    loss.backward()\n",
        "    optimizer.step()\n",
        "\n",
        "    total_loss += loss.item()\n",
        "\n",
        "  print(f\"Epoch {epoch:3d} | Train Loss: {total_loss}\")\n",
        "\n",
        "  with torch.no_grad():\n",
        "    model.eval()\n",
        "    train_acc = accuracy(model, train_loader)\n",
        "    test_acc = accuracy(model, test_loader)\n",
        "    print(f\"=========> Train acc: {train_acc:.3f} | Test acc: {test_acc:.3f}\")"
      ]
    }
  ],
  "metadata": {
    "accelerator": "GPU",
    "colab": {
      "gpuType": "T4",
      "provenance": [],
      "include_colab_link": true
    },
    "kernelspec": {
      "display_name": "Python 3 (ipykernel)",
      "language": "python",
      "name": "python3"
    },
    "language_info": {
      "codemirror_mode": {
        "name": "ipython",
        "version": 3
      },
      "file_extension": ".py",
      "mimetype": "text/x-python",
      "name": "python",
      "nbconvert_exporter": "python",
      "pygments_lexer": "ipython3",
      "version": "3.10.14"
    }
  },
  "nbformat": 4,
  "nbformat_minor": 0
}